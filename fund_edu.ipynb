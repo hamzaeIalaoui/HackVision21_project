{
 "cells": [
  {
   "cell_type": "code",
   "execution_count": 6,
   "id": "382c16aa",
   "metadata": {},
   "outputs": [],
   "source": [
    "import numpy as np \n",
    "import pandas as pd \n",
    "from sklearn.metrics import confusion_matrix\n"
   ]
  },
  {
   "cell_type": "code",
   "execution_count": 9,
   "id": "84f75931",
   "metadata": {},
   "outputs": [],
   "source": [
    "#import the data in df\n",
    "df=pd.read_excel(\"data123.xlsx\")"
   ]
  },
  {
   "cell_type": "code",
   "execution_count": 10,
   "id": "da757827",
   "metadata": {},
   "outputs": [
    {
     "data": {
      "text/html": [
       "<div>\n",
       "<style scoped>\n",
       "    .dataframe tbody tr th:only-of-type {\n",
       "        vertical-align: middle;\n",
       "    }\n",
       "\n",
       "    .dataframe tbody tr th {\n",
       "        vertical-align: top;\n",
       "    }\n",
       "\n",
       "    .dataframe thead th {\n",
       "        text-align: right;\n",
       "    }\n",
       "</style>\n",
       "<table border=\"1\" class=\"dataframe\">\n",
       "  <thead>\n",
       "    <tr style=\"text-align: right;\">\n",
       "      <th></th>\n",
       "      <th>School</th>\n",
       "      <th>Student Enrolments</th>\n",
       "      <th>Teaching Staff</th>\n",
       "      <th>ICSEA_Score</th>\n",
       "      <th>Expenditure</th>\n",
       "      <th>Fund_req</th>\n",
       "    </tr>\n",
       "  </thead>\n",
       "  <tbody>\n",
       "    <tr>\n",
       "      <th>0</th>\n",
       "      <td>Ballarat Clarendon College</td>\n",
       "      <td>1422</td>\n",
       "      <td>163</td>\n",
       "      <td>1160</td>\n",
       "      <td>15176</td>\n",
       "      <td>1</td>\n",
       "    </tr>\n",
       "    <tr>\n",
       "      <th>1</th>\n",
       "      <td>Emmanuel College</td>\n",
       "      <td>2070</td>\n",
       "      <td>152</td>\n",
       "      <td>1059</td>\n",
       "      <td>11876</td>\n",
       "      <td>0</td>\n",
       "    </tr>\n",
       "    <tr>\n",
       "      <th>2</th>\n",
       "      <td>Doncaster secondary college</td>\n",
       "      <td>1494</td>\n",
       "      <td>114</td>\n",
       "      <td>1061</td>\n",
       "      <td>15476</td>\n",
       "      <td>1</td>\n",
       "    </tr>\n",
       "    <tr>\n",
       "      <th>3</th>\n",
       "      <td>St Kevin's College</td>\n",
       "      <td>2099</td>\n",
       "      <td>228</td>\n",
       "      <td>1177</td>\n",
       "      <td>12446</td>\n",
       "      <td>0</td>\n",
       "    </tr>\n",
       "    <tr>\n",
       "      <th>4</th>\n",
       "      <td>Canley Vale High School</td>\n",
       "      <td>1574</td>\n",
       "      <td>105</td>\n",
       "      <td>952</td>\n",
       "      <td>16176</td>\n",
       "      <td>1</td>\n",
       "    </tr>\n",
       "  </tbody>\n",
       "</table>\n",
       "</div>"
      ],
      "text/plain": [
       "                        School  Student Enrolments  Teaching Staff  \\\n",
       "0   Ballarat Clarendon College                1422             163   \n",
       "1             Emmanuel College                2070             152   \n",
       "2  Doncaster secondary college                1494             114   \n",
       "3           St Kevin's College                2099             228   \n",
       "4     Canley Vale High School                 1574             105   \n",
       "\n",
       "   ICSEA_Score  Expenditure   Fund_req  \n",
       "0         1160         15176         1  \n",
       "1         1059         11876         0  \n",
       "2         1061         15476         1  \n",
       "3         1177         12446         0  \n",
       "4          952         16176         1  "
      ]
     },
     "execution_count": 10,
     "metadata": {},
     "output_type": "execute_result"
    }
   ],
   "source": [
    "df.head()"
   ]
  },
  {
   "cell_type": "code",
   "execution_count": 17,
   "id": "563a02a9",
   "metadata": {},
   "outputs": [],
   "source": [
    "X = df.iloc[:, 1:-1].values\n",
    "y = df.iloc[:, -1].values"
   ]
  },
  {
   "cell_type": "code",
   "execution_count": 18,
   "id": "a6e7b06c",
   "metadata": {},
   "outputs": [
    {
     "data": {
      "text/plain": [
       "array([[ 1422,   163,  1160, 15176],\n",
       "       [ 2070,   152,  1059, 11876],\n",
       "       [ 1494,   114,  1061, 15476],\n",
       "       [ 2099,   228,  1177, 12446],\n",
       "       [ 1574,   105,   952, 16176],\n",
       "       [ 1204,    94,  1076, 16876],\n",
       "       [  722,    59,   931, 16186],\n",
       "       [  705,    57,  1012, 15176],\n",
       "       [ 1168,    97,   941, 15176],\n",
       "       [  539,    45,   853, 10176],\n",
       "       [  897,    72,   968, 12176],\n",
       "       [ 1113,    80,   968, 15176],\n",
       "       [ 1644,   117,  1041, 15176],\n",
       "       [  842,    73,  1068, 10886],\n",
       "       [ 1883,   192,  1116, 15176],\n",
       "       [ 1217,   118,  1115, 15176],\n",
       "       [ 1457,   113,  1050, 16176],\n",
       "       [ 1331,   107,  1069, 16776],\n",
       "       [  891,    84,   982, 14176],\n",
       "       [  973,    80,  1012, 18176],\n",
       "       [  946,    66,  1067, 17176],\n",
       "       [  235,    23,  1030, 12176],\n",
       "       [  171,    24,   992, 11176],\n",
       "       [  132,    16,   945, 12276],\n",
       "       [  767,    69,   951, 16676],\n",
       "       [ 1424,   132,  1021, 17176],\n",
       "       [  535,    45,   945, 18176],\n",
       "       [  475,    44,   928, 15176],\n",
       "       [  709,    68,  1090, 15176],\n",
       "       [ 1386,   122,  1114, 13176],\n",
       "       [ 1119,    82,  1075, 15176],\n",
       "       [  883,    67,  1126, 12176]], dtype=int64)"
      ]
     },
     "execution_count": 18,
     "metadata": {},
     "output_type": "execute_result"
    }
   ],
   "source": [
    "X"
   ]
  },
  {
   "cell_type": "code",
   "execution_count": 19,
   "id": "e79685e4",
   "metadata": {},
   "outputs": [
    {
     "data": {
      "text/plain": [
       "array([1, 0, 1, 0, 1, 1, 1, 1, 1, 0, 0, 1, 1, 0, 1, 1, 1, 1, 0, 1, 1, 0,\n",
       "       1, 0, 1, 1, 1, 1, 1, 1, 1, 0], dtype=int64)"
      ]
     },
     "execution_count": 19,
     "metadata": {},
     "output_type": "execute_result"
    }
   ],
   "source": [
    "y"
   ]
  },
  {
   "cell_type": "code",
   "execution_count": 20,
   "id": "cb278717",
   "metadata": {},
   "outputs": [],
   "source": [
    "from sklearn.model_selection import train_test_split\n",
    "X_train, X_test, y_train, y_test = train_test_split(X, y, test_size = 0.30)"
   ]
  },
  {
   "cell_type": "code",
   "execution_count": 37,
   "id": "2536dbb5",
   "metadata": {},
   "outputs": [
    {
     "data": {
      "text/plain": [
       "RandomForestClassifier(criterion='entropy', n_estimators=5)"
      ]
     },
     "execution_count": 37,
     "metadata": {},
     "output_type": "execute_result"
    }
   ],
   "source": [
    "#modelling\n",
    "from sklearn.ensemble import RandomForestClassifier\n",
    "model = RandomForestClassifier(n_estimators = 5, criterion = 'entropy')\n",
    "model.fit(X_train, y_train)\n"
   ]
  },
  {
   "cell_type": "code",
   "execution_count": 38,
   "id": "b0052857",
   "metadata": {},
   "outputs": [],
   "source": [
    "#predicting results on test set\n",
    "y_pred = model.predict(X_test)\n"
   ]
  },
  {
   "cell_type": "code",
   "execution_count": 39,
   "id": "01443a0e",
   "metadata": {},
   "outputs": [
    {
     "data": {
      "text/plain": [
       "array([[  235,    23,  1030, 12176],\n",
       "       [  891,    84,   982, 14176],\n",
       "       [ 2099,   228,  1177, 12446],\n",
       "       [  842,    73,  1068, 10886],\n",
       "       [  171,    24,   992, 11176],\n",
       "       [  132,    16,   945, 12276],\n",
       "       [  722,    59,   931, 16186],\n",
       "       [  709,    68,  1090, 15176],\n",
       "       [ 1644,   117,  1041, 15176],\n",
       "       [  535,    45,   945, 18176]], dtype=int64)"
      ]
     },
     "execution_count": 39,
     "metadata": {},
     "output_type": "execute_result"
    }
   ],
   "source": [
    "X_test"
   ]
  },
  {
   "cell_type": "code",
   "execution_count": 40,
   "id": "e8e37059",
   "metadata": {},
   "outputs": [
    {
     "data": {
      "text/plain": [
       "array([0, 1, 0, 0, 0, 0, 1, 1, 1, 1], dtype=int64)"
      ]
     },
     "execution_count": 40,
     "metadata": {},
     "output_type": "execute_result"
    }
   ],
   "source": [
    "y_pred"
   ]
  },
  {
   "cell_type": "code",
   "execution_count": 41,
   "id": "6c1367ad",
   "metadata": {},
   "outputs": [
    {
     "data": {
      "text/plain": [
       "array([[4, 1],\n",
       "       [1, 4]], dtype=int64)"
      ]
     },
     "execution_count": 41,
     "metadata": {},
     "output_type": "execute_result"
    }
   ],
   "source": [
    "confusion_matrix(y_true=y_test, y_pred=y_pred)\n"
   ]
  },
  {
   "cell_type": "code",
   "execution_count": 49,
   "id": "d87a21b4",
   "metadata": {},
   "outputs": [],
   "source": [
    "#0 means fund required, 1 means fund no required\n",
    "unseenXExpand=[]\n",
    "unseenXExpand.append([1422,163,760,10176])\n",
    "unseenXExpand.append([1222,263,960,16176])"
   ]
  },
  {
   "cell_type": "code",
   "execution_count": 50,
   "id": "b3f28f66",
   "metadata": {},
   "outputs": [],
   "source": [
    "y_pred1 = model.predict(unseenXExpand)"
   ]
  },
  {
   "cell_type": "code",
   "execution_count": 51,
   "id": "a4acee80",
   "metadata": {},
   "outputs": [
    {
     "data": {
      "text/plain": [
       "array([0, 1], dtype=int64)"
      ]
     },
     "execution_count": 51,
     "metadata": {},
     "output_type": "execute_result"
    }
   ],
   "source": [
    "y_pred1"
   ]
  },
  {
   "cell_type": "code",
   "execution_count": null,
   "id": "5142212c",
   "metadata": {},
   "outputs": [],
   "source": []
  }
 ],
 "metadata": {
  "kernelspec": {
   "display_name": "Python 3",
   "language": "python",
   "name": "python3"
  },
  "language_info": {
   "codemirror_mode": {
    "name": "ipython",
    "version": 3
   },
   "file_extension": ".py",
   "mimetype": "text/x-python",
   "name": "python",
   "nbconvert_exporter": "python",
   "pygments_lexer": "ipython3",
   "version": "3.8.8"
  }
 },
 "nbformat": 4,
 "nbformat_minor": 5
}
